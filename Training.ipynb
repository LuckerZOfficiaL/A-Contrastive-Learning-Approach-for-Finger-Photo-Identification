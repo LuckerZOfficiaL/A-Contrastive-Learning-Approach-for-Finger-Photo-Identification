{
  "cells": [
    {
      "cell_type": "markdown",
      "metadata": {
        "id": "view-in-github",
        "colab_type": "text"
      },
      "source": [
        "<a href=\"https://colab.research.google.com/github/LuckerZOfficiaL/A-Contrastive-Learning-Approach-for-Finger-Photo-Identification/blob/main/Training.ipynb\" target=\"_parent\"><img src=\"https://colab.research.google.com/assets/colab-badge.svg\" alt=\"Open In Colab\"/></a>"
      ]
    },
    {
      "cell_type": "code",
      "execution_count": null,
      "metadata": {
        "colab": {
          "base_uri": "https://localhost:8080/"
        },
        "id": "CpidCv_tsXd5",
        "outputId": "3331e49a-f11c-4f9a-d59f-5c981d05772a"
      },
      "outputs": [
        {
          "output_type": "stream",
          "name": "stdout",
          "text": [
            "Collecting import-ipynb\n",
            "  Downloading import_ipynb-0.1.4-py3-none-any.whl (4.1 kB)\n",
            "Requirement already satisfied: IPython in /usr/local/lib/python3.10/dist-packages (from import-ipynb) (7.34.0)\n",
            "Requirement already satisfied: nbformat in /usr/local/lib/python3.10/dist-packages (from import-ipynb) (5.9.2)\n",
            "Requirement already satisfied: setuptools>=18.5 in /usr/local/lib/python3.10/dist-packages (from IPython->import-ipynb) (67.7.2)\n",
            "Collecting jedi>=0.16 (from IPython->import-ipynb)\n",
            "  Downloading jedi-0.19.1-py2.py3-none-any.whl (1.6 MB)\n",
            "\u001b[2K     \u001b[90m━━━━━━━━━━━━━━━━━━━━━━━━━━━━━━━━━━━━━━━━\u001b[0m \u001b[32m1.6/1.6 MB\u001b[0m \u001b[31m1.6 MB/s\u001b[0m eta \u001b[36m0:00:00\u001b[0m\n",
            "\u001b[?25hRequirement already satisfied: decorator in /usr/local/lib/python3.10/dist-packages (from IPython->import-ipynb) (4.4.2)\n",
            "Requirement already satisfied: pickleshare in /usr/local/lib/python3.10/dist-packages (from IPython->import-ipynb) (0.7.5)\n",
            "Requirement already satisfied: traitlets>=4.2 in /usr/local/lib/python3.10/dist-packages (from IPython->import-ipynb) (5.7.1)\n",
            "Requirement already satisfied: prompt-toolkit!=3.0.0,!=3.0.1,<3.1.0,>=2.0.0 in /usr/local/lib/python3.10/dist-packages (from IPython->import-ipynb) (3.0.43)\n",
            "Requirement already satisfied: pygments in /usr/local/lib/python3.10/dist-packages (from IPython->import-ipynb) (2.16.1)\n",
            "Requirement already satisfied: backcall in /usr/local/lib/python3.10/dist-packages (from IPython->import-ipynb) (0.2.0)\n",
            "Requirement already satisfied: matplotlib-inline in /usr/local/lib/python3.10/dist-packages (from IPython->import-ipynb) (0.1.6)\n",
            "Requirement already satisfied: pexpect>4.3 in /usr/local/lib/python3.10/dist-packages (from IPython->import-ipynb) (4.9.0)\n",
            "Requirement already satisfied: fastjsonschema in /usr/local/lib/python3.10/dist-packages (from nbformat->import-ipynb) (2.19.1)\n",
            "Requirement already satisfied: jsonschema>=2.6 in /usr/local/lib/python3.10/dist-packages (from nbformat->import-ipynb) (4.19.2)\n",
            "Requirement already satisfied: jupyter-core in /usr/local/lib/python3.10/dist-packages (from nbformat->import-ipynb) (5.7.0)\n",
            "Requirement already satisfied: parso<0.9.0,>=0.8.3 in /usr/local/lib/python3.10/dist-packages (from jedi>=0.16->IPython->import-ipynb) (0.8.3)\n",
            "Requirement already satisfied: attrs>=22.2.0 in /usr/local/lib/python3.10/dist-packages (from jsonschema>=2.6->nbformat->import-ipynb) (23.2.0)\n",
            "Requirement already satisfied: jsonschema-specifications>=2023.03.6 in /usr/local/lib/python3.10/dist-packages (from jsonschema>=2.6->nbformat->import-ipynb) (2023.12.1)\n",
            "Requirement already satisfied: referencing>=0.28.4 in /usr/local/lib/python3.10/dist-packages (from jsonschema>=2.6->nbformat->import-ipynb) (0.32.1)\n",
            "Requirement already satisfied: rpds-py>=0.7.1 in /usr/local/lib/python3.10/dist-packages (from jsonschema>=2.6->nbformat->import-ipynb) (0.16.2)\n",
            "Requirement already satisfied: ptyprocess>=0.5 in /usr/local/lib/python3.10/dist-packages (from pexpect>4.3->IPython->import-ipynb) (0.7.0)\n",
            "Requirement already satisfied: wcwidth in /usr/local/lib/python3.10/dist-packages (from prompt-toolkit!=3.0.0,!=3.0.1,<3.1.0,>=2.0.0->IPython->import-ipynb) (0.2.12)\n",
            "Requirement already satisfied: platformdirs>=2.5 in /usr/local/lib/python3.10/dist-packages (from jupyter-core->nbformat->import-ipynb) (4.1.0)\n",
            "Installing collected packages: jedi, import-ipynb\n",
            "Successfully installed import-ipynb-0.1.4 jedi-0.19.1\n",
            "Mounted at /content/drive\n",
            "/content/drive/.shortcut-targets-by-id/1fz0aq2n-SyUbVYiAvJLNUhWeDGqsiVmb/Sapienza/Y1/Biometric Systems/Shared Project Folder/Code\n",
            "importing Jupyter notebook from Architecture.ipynb\n",
            "Requirement already satisfied: transformers in /usr/local/lib/python3.10/dist-packages (4.35.2)\n",
            "Requirement already satisfied: filelock in /usr/local/lib/python3.10/dist-packages (from transformers) (3.13.1)\n",
            "Requirement already satisfied: huggingface-hub<1.0,>=0.16.4 in /usr/local/lib/python3.10/dist-packages (from transformers) (0.20.2)\n",
            "Requirement already satisfied: numpy>=1.17 in /usr/local/lib/python3.10/dist-packages (from transformers) (1.23.5)\n",
            "Requirement already satisfied: packaging>=20.0 in /usr/local/lib/python3.10/dist-packages (from transformers) (23.2)\n",
            "Requirement already satisfied: pyyaml>=5.1 in /usr/local/lib/python3.10/dist-packages (from transformers) (6.0.1)\n",
            "Requirement already satisfied: regex!=2019.12.17 in /usr/local/lib/python3.10/dist-packages (from transformers) (2023.6.3)\n",
            "Requirement already satisfied: requests in /usr/local/lib/python3.10/dist-packages (from transformers) (2.31.0)\n",
            "Requirement already satisfied: tokenizers<0.19,>=0.14 in /usr/local/lib/python3.10/dist-packages (from transformers) (0.15.0)\n",
            "Requirement already satisfied: safetensors>=0.3.1 in /usr/local/lib/python3.10/dist-packages (from transformers) (0.4.1)\n",
            "Requirement already satisfied: tqdm>=4.27 in /usr/local/lib/python3.10/dist-packages (from transformers) (4.66.1)\n",
            "Requirement already satisfied: fsspec>=2023.5.0 in /usr/local/lib/python3.10/dist-packages (from huggingface-hub<1.0,>=0.16.4->transformers) (2023.6.0)\n",
            "Requirement already satisfied: typing-extensions>=3.7.4.3 in /usr/local/lib/python3.10/dist-packages (from huggingface-hub<1.0,>=0.16.4->transformers) (4.5.0)\n",
            "Requirement already satisfied: charset-normalizer<4,>=2 in /usr/local/lib/python3.10/dist-packages (from requests->transformers) (3.3.2)\n",
            "Requirement already satisfied: idna<4,>=2.5 in /usr/local/lib/python3.10/dist-packages (from requests->transformers) (3.6)\n",
            "Requirement already satisfied: urllib3<3,>=1.21.1 in /usr/local/lib/python3.10/dist-packages (from requests->transformers) (2.0.7)\n",
            "Requirement already satisfied: certifi>=2017.4.17 in /usr/local/lib/python3.10/dist-packages (from requests->transformers) (2023.11.17)\n",
            "/content/drive/.shortcut-targets-by-id/1fz0aq2n-SyUbVYiAvJLNUhWeDGqsiVmb/Sapienza/Y1/Biometric Systems/Shared Project Folder\n"
          ]
        }
      ],
      "source": [
        "! pip install import-ipynb\n",
        "import import_ipynb\n",
        "from google.colab import drive\n",
        "from google.colab.patches import cv2_imshow\n",
        "import pandas as pd\n",
        "import numpy as np\n",
        "import os\n",
        "import random\n",
        "import cv2\n",
        "import json\n",
        "import torch\n",
        "from torch.utils.data import DataLoader, TensorDataset\n",
        "import torch.optim as optim\n",
        "import torch.nn as nn\n",
        "import torch.nn.functional as F\n",
        "from torch.optim.lr_scheduler import MultiStepLR\n",
        "import torchvision.models as models\n",
        "from tqdm import tqdm\n",
        "import matplotlib.pyplot as plt\n",
        "from PIL import Image\n",
        "\n",
        "drive_path = '/content/drive'\n",
        "drive.mount(drive_path)\n",
        "\n",
        "%cd /content/drive/MyDrive/Sapienza/Y1/Biometric Systems/Shared Project Folder/Code\n",
        "from Architecture import ResnetClassifier\n",
        "%cd /content/drive/MyDrive/Sapienza/Y1/Biometric Systems/Shared Project Folder"
      ]
    },
    {
      "cell_type": "markdown",
      "source": [
        "#Galleries for Training and Testing"
      ],
      "metadata": {
        "id": "4u6TIPwUt5AJ"
      }
    },
    {
      "cell_type": "code",
      "source": [
        "train_root_path = './Datasets/5. Thresholded-Then-Thinned'\n",
        "train_items = os.listdir(train_root_path)\n",
        "\n",
        "test_root_path = './Datasets/5. Thresholded-Then-Thinned-Test'\n",
        "test_items = os.listdir(test_root_path)\n",
        "\n",
        "device = \"cuda\"\n",
        "len(train_items), len(test_items)"
      ],
      "metadata": {
        "id": "rfbA159Qt8J1",
        "colab": {
          "base_uri": "https://localhost:8080/"
        },
        "outputId": "f41ca160-2f2c-40c5-94d6-5cf0eaa3aa75"
      },
      "execution_count": null,
      "outputs": [
        {
          "output_type": "execute_result",
          "data": {
            "text/plain": [
              "(832, 192)"
            ]
          },
          "metadata": {},
          "execution_count": 2
        }
      ]
    },
    {
      "cell_type": "code",
      "source": [
        "img = cv2.imread(train_root_path+\"/\"+train_items[0], cv2.IMREAD_GRAYSCALE)\n",
        "cv2_imshow(img)\n",
        "\n",
        "print(img.shape)"
      ],
      "metadata": {
        "id": "FbnjpIhKX39x",
        "colab": {
          "base_uri": "https://localhost:8080/",
          "height": 330
        },
        "outputId": "6157a1af-16f0-4967-c11e-2b166611cf02"
      },
      "execution_count": null,
      "outputs": [
        {
          "output_type": "display_data",
          "data": {
            "text/plain": [
              "<PIL.Image.Image image mode=L size=170x295>"
            ],
            "image/png": "[encoded data removed]"
          },
          "metadata": {}
        },
        {
          "output_type": "stream",
          "name": "stdout",
          "text": [
            "(295, 170)\n"
          ]
        }
      ]
    },
    {
      "cell_type": "code",
      "source": [
        "def create_galleries(folder_path, items, num_eqs_to_have=3, num_others=30, galleries_per_anchor=2):\n",
        "  #items = os.listdir(test_folder_path)\n",
        "  test_id_list = []\n",
        "  test_imgs = []\n",
        "\n",
        "  for item in items:\n",
        "      image_path = os.path.join(folder_path, item)\n",
        "      image = Image.open(image_path).convert(\"L\")\n",
        "      image = np.array(image)\n",
        "      image = torch.tensor(image)\n",
        "      test_imgs.append(image)\n",
        "      finger_id = int(item.split(\"_\")[0]) * int(item.split(\"_\")[2]) - 1\n",
        "      test_id_list.append(finger_id)\n",
        "\n",
        "\n",
        "  test_imgs = torch.stack(test_imgs)\n",
        "  test_imgs = test_imgs.unsqueeze(1)\n",
        "  test_ids = torch.tensor(test_id_list)\n",
        "\n",
        "  possible_anchors = [] # this contains pairs (finger ID, # photos of the same finger ID)\n",
        "  for i in range(128):\n",
        "    num_equivalents = torch.where(test_ids == i)[0].size()[0]\n",
        "    if  num_equivalents > 3: # let's say an image qualifies as anchor if it has at least 3 other equivalents\n",
        "        possible_anchors.append((i, num_equivalents))\n",
        "\n",
        "  galleries = []\n",
        "  for idx, _ in possible_anchors:\n",
        "    for _ in range(galleries_per_anchor): # we create multiple galleries with each anchor\n",
        "      initial_gallery = test_imgs[torch.where(test_ids == idx)[0][:num_eqs_to_have], :, :, :] # initialize the gallery with the anchor and some of its equals\n",
        "\n",
        "      other_test_images = test_imgs[torch.where(test_ids != idx)[0][:], :, :, :]\n",
        "      others_random_indices = torch.randperm(other_test_images.size(0))[:num_others]\n",
        "      others_gallery = other_test_images[others_random_indices] # this gallery contains random examples of images of other fingers\n",
        "\n",
        "      this_gallery = torch.cat((initial_gallery, others_gallery), dim=0)\n",
        "      galleries.append(this_gallery)\n",
        "\n",
        "  print(len(galleries), \"galleries created\")\n",
        "  return galleries, possible_anchors\n",
        "\n",
        "\n",
        "\n",
        "def test_for_all_galleries(galleries, num_eqs_to_have, model, logits_from=\"fc\", backbone_in_channels=1):\n",
        "  correct_count = 0\n",
        "  wrong_count = 0\n",
        "\n",
        "  for gallery_idx in range(len(galleries)):\n",
        "    gallery = galleries[gallery_idx].to(\"cuda\").float()\n",
        "    if gallery.size()[1] == 1 and backbone_in_channels == 3:\n",
        "      gallery = gallery.repeat(1,3,1,1) # to duplicate greyscale to 3 channels\n",
        "\n",
        "    if logits_from == \"fc\":\n",
        "      embs = model.forward_logits(gallery)\n",
        "    elif logits_from == \"projector\":\n",
        "      embs = model.forward_projector(gallery)\n",
        "    else:\n",
        "      embs = model.forward_backbone(gallery)\n",
        "\n",
        "    min_dist = float(\"inf\")\n",
        "    min_dist_idx = None\n",
        "\n",
        "    for i in range(1, embs.size()[0]):\n",
        "      this_dist = torch.norm(embs[0] - embs[i]).item()\n",
        "      if this_dist < min_dist:\n",
        "        min_dist = this_dist\n",
        "        min_dist_idx = i\n",
        "\n",
        "    #print(\"\\nGallery: \", gallery_idx, \" eq_num: \", eq_num, \" total images: \", embs.size()[0])\n",
        "    if min_dist_idx < num_eqs_to_have:\n",
        "      correct_count += 1\n",
        "      #print(\"---Correct\")\n",
        "    else:\n",
        "      wrong_count += 1\n",
        "      #print(\"---Wrong\")\n",
        "\n",
        "  return correct_count, wrong_count, correct_count/(correct_count+wrong_count)\n",
        "\n",
        "\n",
        "def softmax_entropy(logits):\n",
        "    softmax_probs = F.softmax(logits, dim=1)\n",
        "    entropy = -torch.mean(torch.sum(softmax_probs * torch.log(softmax_probs + 1e-10), dim=1))\n",
        "    return entropy\n",
        "\n",
        "def get_accuracy(logits, true_labels): # true_labels is not one hot, it already contains labels\n",
        "    predicted_labels = torch.argmax(logits, dim=1)\n",
        "    correct_predictions = (predicted_labels == true_labels).sum().item()\n",
        "    accuracy = correct_predictions / len(true_labels)\n",
        "    return accuracy\n",
        "\n",
        "\n",
        "\n",
        "def plot_two_lines(train_loss_values, test_loss_values):\n",
        "        train_loss_values = [val for val in train_epoch_losses_list]\n",
        "        test_loss_values = [val for val in test_epoch_losses_list]\n",
        "        x_values = list(range(1, len(train_epoch_losses_list) + 1))\n",
        "        plt.plot(x_values, train_loss_values, label='Train Loss', marker='o', linestyle='-', color='red')\n",
        "        plt.plot(x_values, test_loss_values,label='Validation Loss', marker='o', linestyle='-', color='blue')\n",
        "        plt.xlabel('Epoch')\n",
        "        plt.ylabel('Mean Loss Per Example')\n",
        "        plt.title('Mean Training Loss')\n",
        "        plt.legend()\n",
        "        plt.show()"
      ],
      "metadata": {
        "id": "pTUtIOusfEBl"
      },
      "execution_count": null,
      "outputs": []
    },
    {
      "cell_type": "code",
      "source": [
        "train_galleries, _ = create_galleries(train_root_path, train_items, num_eqs_to_have=2, num_others=40, galleries_per_anchor=3) # num_eqs_to_have=2 means that there is just 1 positive example in the gallery other than the anchor itself\n",
        "test_galleries, _ = create_galleries(test_root_path, test_items, num_eqs_to_have=3, num_others=40, galleries_per_anchor=3) # num_eqs_to_have=3 means that there are 2 positive example in the gallery other than the anchor itself)"
      ],
      "metadata": {
        "id": "wenSmS34fGu3",
        "colab": {
          "base_uri": "https://localhost:8080/"
        },
        "outputId": "6aef27bc-c277-4c76-adc0-d65e4b6bc42a"
      },
      "execution_count": null,
      "outputs": [
        {
          "output_type": "stream",
          "name": "stdout",
          "text": [
            "234 galleries created\n",
            "72 galleries created\n"
          ]
        }
      ]
    },
    {
      "cell_type": "code",
      "source": [
        "len(train_galleries[0]), len(test_galleries[0])"
      ],
      "metadata": {
        "id": "vjWTYa0tu5LL",
        "colab": {
          "base_uri": "https://localhost:8080/"
        },
        "outputId": "88fca78e-5201-4e4e-b8f7-5f31a4dae5b8"
      },
      "execution_count": null,
      "outputs": [
        {
          "output_type": "execute_result",
          "data": {
            "text/plain": [
              "(42, 43)"
            ]
          },
          "metadata": {},
          "execution_count": 6
        }
      ]
    },
    {
      "cell_type": "markdown",
      "metadata": {
        "id": "sbgzS5Fs1HB7"
      },
      "source": [
        "# InfoNCE Loss"
      ]
    },
    {
      "cell_type": "code",
      "execution_count": null,
      "metadata": {
        "id": "OW9xrU1i6urW",
        "colab": {
          "base_uri": "https://localhost:8080/"
        },
        "outputId": "fe23ed90-d7a8-4e19-9f48-44a9bdc35e2a"
      },
      "outputs": [
        {
          "output_type": "stream",
          "name": "stdout",
          "text": [
            "Collecting info-nce-pytorch\n",
            "  Downloading info_nce_pytorch-0.1.4-py3-none-any.whl (4.8 kB)\n",
            "Requirement already satisfied: torch in /usr/local/lib/python3.10/dist-packages (from info-nce-pytorch) (2.1.0+cu121)\n",
            "Requirement already satisfied: filelock in /usr/local/lib/python3.10/dist-packages (from torch->info-nce-pytorch) (3.13.1)\n",
            "Requirement already satisfied: typing-extensions in /usr/local/lib/python3.10/dist-packages (from torch->info-nce-pytorch) (4.5.0)\n",
            "Requirement already satisfied: sympy in /usr/local/lib/python3.10/dist-packages (from torch->info-nce-pytorch) (1.12)\n",
            "Requirement already satisfied: networkx in /usr/local/lib/python3.10/dist-packages (from torch->info-nce-pytorch) (3.2.1)\n",
            "Requirement already satisfied: jinja2 in /usr/local/lib/python3.10/dist-packages (from torch->info-nce-pytorch) (3.1.2)\n",
            "Requirement already satisfied: fsspec in /usr/local/lib/python3.10/dist-packages (from torch->info-nce-pytorch) (2023.6.0)\n",
            "Requirement already satisfied: triton==2.1.0 in /usr/local/lib/python3.10/dist-packages (from torch->info-nce-pytorch) (2.1.0)\n",
            "Requirement already satisfied: MarkupSafe>=2.0 in /usr/local/lib/python3.10/dist-packages (from jinja2->torch->info-nce-pytorch) (2.1.3)\n",
            "Requirement already satisfied: mpmath>=0.19 in /usr/local/lib/python3.10/dist-packages (from sympy->torch->info-nce-pytorch) (1.3.0)\n",
            "Installing collected packages: info-nce-pytorch\n",
            "Successfully installed info-nce-pytorch-0.1.4\n"
          ]
        }
      ],
      "source": [
        "! pip install info-nce-pytorch\n",
        "from info_nce import InfoNCE, info_nce"
      ]
    },
    {
      "cell_type": "code",
      "execution_count": null,
      "metadata": {
        "id": "TctZHGVk7Ljk"
      },
      "outputs": [],
      "source": [
        "infonce_loss = InfoNCE(negative_mode='unpaired')"
      ]
    },
    {
      "cell_type": "markdown",
      "source": [
        "#### Example Usage"
      ],
      "metadata": {
        "id": "ZKeQ2NwXz55q"
      }
    },
    {
      "cell_type": "code",
      "source": [
        "model = ResnetClassifier(num_classes=100, hidden_size=256, initialize=\"xavier\").to(\"cuda\")\n",
        "\n",
        "input = train_galleries[0].to(\"cuda\").float() # For example, let's use the first training gallery\n",
        "output = model.forward_projector(input)\n",
        "query = output[0].unsqueeze(0)\n",
        "positive_key = output[1].unsqueeze(0)\n",
        "negative_keys = output[2:]\n",
        "print(\"InfoNCE Loss: \", infonce_loss(query, positive_key, negative_keys))"
      ],
      "metadata": {
        "id": "Ogtbw6p5ypVm",
        "colab": {
          "base_uri": "https://localhost:8080/"
        },
        "outputId": "651c2008-c65d-409a-8ae1-f2b19451a4b4"
      },
      "execution_count": null,
      "outputs": [
        {
          "output_type": "stream",
          "name": "stderr",
          "text": [
            "/usr/local/lib/python3.10/dist-packages/torchvision/models/_utils.py:208: UserWarning: The parameter 'pretrained' is deprecated since 0.13 and may be removed in the future, please use 'weights' instead.\n",
            "  warnings.warn(\n",
            "/usr/local/lib/python3.10/dist-packages/torchvision/models/_utils.py:223: UserWarning: Arguments other than a weight enum or `None` for 'weights' are deprecated since 0.13 and may be removed in the future. The current behavior is equivalent to passing `weights=ResNet18_Weights.IMAGENET1K_V1`. You can also use `weights=ResNet18_Weights.DEFAULT` to get the most up-to-date weights.\n",
            "  warnings.warn(msg)\n",
            "Downloading: \"https://download.pytorch.org/models/resnet18-f37072fd.pth\" to /root/.cache/torch/hub/checkpoints/resnet18-f37072fd.pth\n",
            "100%|██████████| 44.7M/44.7M [00:00<00:00, 134MB/s]\n"
          ]
        },
        {
          "output_type": "stream",
          "name": "stdout",
          "text": [
            "InfoNCE Loss:  tensor(2.8082, device='cuda:0', grad_fn=<NllLossBackward0>)\n"
          ]
        }
      ]
    },
    {
      "cell_type": "code",
      "source": [
        "# Into a function\n",
        "def get_InfoNCE_loss(output):\n",
        "  query = output[0].unsqueeze(0) # the first embedding in the gallery is always the anchor\n",
        "  positive_key = output[1].unsqueeze(0) # the first embedding in the gallery is always the positive\n",
        "  negative_keys = output[2:] # the rest are always negative\n",
        "  return infonce_loss(query, positive_key, negative_keys)"
      ],
      "metadata": {
        "id": "XYGlAf-5xL62"
      },
      "execution_count": null,
      "outputs": []
    },
    {
      "cell_type": "markdown",
      "metadata": {
        "id": "khL0BzhdZHY2"
      },
      "source": [
        "# Into Training"
      ]
    },
    {
      "cell_type": "code",
      "execution_count": null,
      "metadata": {
        "id": "9Q33d2U88dhN",
        "colab": {
          "base_uri": "https://localhost:8080/"
        },
        "outputId": "769bc712-56ae-4f32-c357-753216c05951"
      },
      "outputs": [
        {
          "output_type": "stream",
          "name": "stdout",
          "text": [
            "Initial Gallery Performance with Backbone:  (45, 27, 0.625)\n",
            "Initial Gallery Performance with Projector:  (50, 22, 0.6944444444444444)\n",
            "Initial Gallery Performance with fc:  (27, 45, 0.375)\n"
          ]
        }
      ],
      "source": [
        "model = ResnetClassifier(num_classes=128, hidden_size=256, initialize=\"xavier\")\n",
        "model.to(torch.device('cuda'))\n",
        "\n",
        "optimizer = optim.AdamW([\n",
        "    {'params': model.conv_1to3.parameters(), 'lr': 0.0001},\n",
        "    {'params': model.pretrained_model.parameters(), 'lr': 0.0001},\n",
        "    {'params': model.projector.parameters(), 'lr': 0.0001},\n",
        "    {'params': model.fc.parameters(), 'lr': 0.0001},\n",
        "], weight_decay=0.0001)\n",
        "\n",
        "train_with = \"projector\" # can be one of [\"backbone\",\"projector\",\"fc\"], indicating which layer to get embeddings from for contrastive training\n",
        "\n",
        "num_epochs = 40\n",
        "milestones = [10, 25, 35]\n",
        "scheduler = MultiStepLR(optimizer, milestones, gamma=0.1)\n",
        "\n",
        "infonce_loss = InfoNCE(negative_mode='unpaired')\n",
        "\n",
        "print(\"Initial Gallery Performance with Backbone: \", test_for_all_galleries(test_galleries, num_eqs_to_have=3, model=model, logits_from=\"backbone\", backbone_in_channels=1))\n",
        "print(\"Initial Gallery Performance with Projector: \", test_for_all_galleries(test_galleries, num_eqs_to_have=3, model=model, logits_from=\"projector\", backbone_in_channels=1))\n",
        "print(\"Initial Gallery Performance with fc: \", test_for_all_galleries(test_galleries, num_eqs_to_have=3, model=model, logits_from=\"fc\", backbone_in_channels=1))"
      ]
    },
    {
      "cell_type": "code",
      "execution_count": null,
      "metadata": {
        "id": "0WHalMI58WyK"
      },
      "outputs": [],
      "source": [
        "train_epoch_losses_list = []\n",
        "test_epoch_losses_list = []\n",
        "\n",
        "\n",
        "starting_epoch = 0\n",
        "milestones = [max(0, x - starting_epoch) for x in milestones]\n",
        "scheduler = MultiStepLR(optimizer, milestones, gamma=0.1)\n",
        "\n",
        "\n",
        "for epoch in range(starting_epoch, num_epochs):\n",
        "    # =================== Training ======================\n",
        "    model.train()\n",
        "    epoch_loss = 0\n",
        "    epoch_acc_list = []\n",
        "    epoch_diff_list = []\n",
        "    for gallery in tqdm(train_galleries, desc=f\"Epoch {epoch + 1}/{num_epochs}\", unit=\"batch\"):\n",
        "\n",
        "        optimizer.zero_grad()\n",
        "\n",
        "        input = gallery.to(\"cuda\").float()\n",
        "\n",
        "        if train_with == \"projector\":\n",
        "          output = model.forward_projector(input)\n",
        "        elif train_with == \"backbone\":\n",
        "          output = model.forward_backbone(input)\n",
        "        else:\n",
        "          output = model.forward__logits(input)\n",
        "\n",
        "        loss = get_InfoNCE_loss(output)\n",
        "        epoch_loss += loss\n",
        "\n",
        "        loss.backward()\n",
        "        optimizer.step()\n",
        "\n",
        "    scheduler.step()\n",
        "    epoch_loss /= len(train_galleries)\n",
        "    print(f\"Epoch [{epoch+1}/{num_epochs}], Mean Train Loss per Gallery: \", epoch_loss)\n",
        "    train_epoch_losses_list.append(epoch_loss.item())\n",
        "\n",
        "\n",
        "    # =================== Validation ======================\n",
        "    model.eval()\n",
        "    with torch.no_grad():\n",
        "      epoch_loss = 0\n",
        "      epoch_acc_list = []\n",
        "      epoch_diff_list = []\n",
        "      for gallery in test_galleries:\n",
        "          input = gallery.to(\"cuda\").float()\n",
        "\n",
        "          if train_with == \"projector\":\n",
        "            output = model.forward_projector(input)\n",
        "          elif train_with == \"backbone\":\n",
        "            output = model.forward_backbone(input)\n",
        "          else:\n",
        "            output = model.forward__logits(input)\n",
        "\n",
        "          loss = get_InfoNCE_loss(output)\n",
        "          epoch_loss += loss\n",
        "\n",
        "      epoch_loss /= len(test_galleries)\n",
        "      print(f\"Epoch [{epoch+1}/{num_epochs}], Mean Test Loss per Gallery: \", epoch_loss)\n",
        "      test_epoch_losses_list.append(epoch_loss.item())\n",
        "\n",
        "\n",
        "\n",
        "    # =================== Visualization ======================\n",
        "    if (epoch+1) % 5 == 0:\n",
        "        print(\"Gallery Backbone Train Performance: \", test_for_all_galleries(train_galleries, num_eqs_to_have=2, model=model, logits_from=\"backbone\", backbone_in_channels=3))\n",
        "        print(\"Gallery Projector Train Performance: \", test_for_all_galleries(train_galleries, num_eqs_to_have=2, model=model, logits_from=\"projector\", backbone_in_channels=3))\n",
        "        print(\"Gallery Backbone Test Performance: \", test_for_all_galleries(test_galleries, num_eqs_to_have=3, model=model, logits_from=\"backbone\", backbone_in_channels=3))\n",
        "        print(\"Gallery Projector Test Performance: \", test_for_all_galleries(test_galleries, num_eqs_to_have=3, model=model, logits_from=\"projector\", backbone_in_channels=3))\n",
        "        print()\n",
        "        plot_two_lines(train_epoch_losses_list, test_epoch_losses_list)"
      ]
    },
    {
      "cell_type": "code",
      "source": [
        "print(\"Gallery Performance with Backbone: \", test_for_all_galleries(train_galleries, num_eqs_to_have=2, model=model, logits_from=\"backbone\", backbone_in_channels=1))\n",
        "print(\"Gallery Performance with Projector: \", test_for_all_galleries(train_galleries, num_eqs_to_have=2, model=model, logits_from=\"projector\", backbone_in_channels=1))\n",
        "\n",
        "print(\"Gallery Test Performance with Backbone: \", test_for_all_galleries(test_galleries, num_eqs_to_have=3, model=model, logits_from=\"backbone\", backbone_in_channels=1))\n",
        "print(\"Gallery Test Performance with Projector: \", test_for_all_galleries(test_galleries, num_eqs_to_have=3, model=model, logits_from=\"projector\", backbone_in_channels=1))"
      ],
      "metadata": {
        "id": "ls7ACAjuWCQ2",
        "colab": {
          "base_uri": "https://localhost:8080/"
        },
        "outputId": "67f20504-00b7-4f52-8a38-fc8e57824c89"
      },
      "execution_count": null,
      "outputs": [
        {
          "output_type": "stream",
          "name": "stdout",
          "text": [
            "Gallery Performance with Backbone:  (234, 0, 1.0)\n",
            " Gallery Performance with Projector:  (234, 0, 1.0)\n",
            "Gallery Test Performance with Backbone:  (66, 6, 0.9166666666666666)\n",
            " Gallery Test Performance with Projector:  (68, 4, 0.9444444444444444)\n"
          ]
        }
      ]
    },
    {
      "cell_type": "code",
      "source": [
        "path_name = \"./Code/Models/resnetSimCLR_512hidden.pth\" #############\n",
        "torch.save(model.state_dict(), path_name)"
      ],
      "metadata": {
        "id": "CL3rBJg4XNK0"
      },
      "execution_count": null,
      "outputs": []
    }
  ],
  "metadata": {
    "accelerator": "GPU",
    "colab": {
      "provenance": [],
      "include_colab_link": true
    },
    "kernelspec": {
      "display_name": "Python 3",
      "name": "python3"
    },
    "language_info": {
      "name": "python"
    }
  },
  "nbformat": 4,
  "nbformat_minor": 0
}